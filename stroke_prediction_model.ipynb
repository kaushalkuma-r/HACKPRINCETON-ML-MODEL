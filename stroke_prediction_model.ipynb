{
  "nbformat": 4,
  "nbformat_minor": 0,
  "metadata": {
    "colab": {
      "name": "stroke_prediction_model.ipynb",
      "provenance": [],
      "include_colab_link": true
    },
    "kernelspec": {
      "name": "python3",
      "display_name": "Python 3"
    },
    "language_info": {
      "name": "python"
    }
  },
  "cells": [
    {
      "cell_type": "markdown",
      "metadata": {
        "id": "view-in-github",
        "colab_type": "text"
      },
      "source": [
        "<a href=\"https://colab.research.google.com/github/kaushalkuma-r/Operating-System-Lab/blob/main/stroke_prediction_model.ipynb\" target=\"_parent\"><img src=\"https://colab.research.google.com/assets/colab-badge.svg\" alt=\"Open In Colab\"/></a>"
      ]
    },
    {
      "cell_type": "markdown",
      "metadata": {
        "id": "ZT_QkbDrGPyk"
      },
      "source": [
        "**Stroke Prediction  Model**\n"
      ]
    },
    {
      "cell_type": "code",
      "metadata": {
        "colab": {
          "base_uri": "https://localhost:8080/"
        },
        "id": "h0BLsIFdJmRj",
        "outputId": "da3d46a5-0d06-43f2-fc96-418796eef149"
      },
      "source": [
        "!pip install six"
      ],
      "execution_count": 44,
      "outputs": [
        {
          "output_type": "stream",
          "name": "stdout",
          "text": [
            "Requirement already satisfied: six in /usr/local/lib/python3.7/dist-packages (1.15.0)\n"
          ]
        }
      ]
    },
    {
      "cell_type": "code",
      "metadata": {
        "colab": {
          "base_uri": "https://localhost:8080/"
        },
        "id": "7QocI4tKbWSb",
        "outputId": "82a3d9e4-85be-4390-eec9-f3d196401805"
      },
      "source": [
        "import sklearn\n",
        "print('sklearn: %s' % sklearn.__version__)"
      ],
      "execution_count": 45,
      "outputs": [
        {
          "output_type": "stream",
          "name": "stdout",
          "text": [
            "sklearn: 0.22.2.post1\n"
          ]
        }
      ]
    },
    {
      "cell_type": "code",
      "metadata": {
        "id": "y_79iHrwGWD0"
      },
      "source": [
        "\n",
        "\n",
        "import pandas as pd\n",
        "import numpy as np\n",
        "import matplotlib.pyplot as plt\n",
        "from sklearn.preprocessing import LabelEncoder, StandardScaler\n",
        "from imblearn.over_sampling import SMOTE\n",
        "from sklearn.model_selection import train_test_split\n",
        "from sklearn.svm import SVC\n",
        "from sklearn.naive_bayes import GaussianNB\n",
        "from sklearn.linear_model import LogisticRegression\n",
        "from sklearn.tree import DecisionTreeClassifier\n",
        "from sklearn.ensemble import RandomForestClassifier\n",
        "from lightgbm import LGBMClassifier\n",
        "from xgboost import XGBClassifier\n",
        "from sklearn.metrics import classification_report,accuracy_score,confusion_matrix\n",
        "from sklearn.metrics import auc,roc_auc_score,roc_curve,precision_score,recall_score,f1_score\n",
        "import time as timer\n",
        "from sklearn.inspection import permutation_importance\n",
        "\n"
      ],
      "execution_count": 46,
      "outputs": []
    },
    {
      "cell_type": "code",
      "metadata": {
        "id": "ypxT2bTTJxS7"
      },
      "source": [
        "# # the data set suggested by the reference repo does not exist anymore so we need to look for another one. For now I will use the healthcare-dataset-stroke-data.csv.\n",
        "# #the code below may be useful later\n",
        "# from google.colab import drive\n",
        "# drive.mount('/content/drive')"
      ],
      "execution_count": 47,
      "outputs": []
    },
    {
      "cell_type": "code",
      "metadata": {
        "colab": {
          "base_uri": "https://localhost:8080/"
        },
        "id": "zo3ituPOPDdW",
        "outputId": "5fceed40-50cb-406a-824e-45b1a5eecfea"
      },
      "source": [
        "! pip install kaggle"
      ],
      "execution_count": 48,
      "outputs": [
        {
          "output_type": "stream",
          "name": "stdout",
          "text": [
            "Requirement already satisfied: kaggle in /usr/local/lib/python3.7/dist-packages (1.5.12)\n",
            "Requirement already satisfied: urllib3 in /usr/local/lib/python3.7/dist-packages (from kaggle) (1.24.3)\n",
            "Requirement already satisfied: requests in /usr/local/lib/python3.7/dist-packages (from kaggle) (2.23.0)\n",
            "Requirement already satisfied: six>=1.10 in /usr/local/lib/python3.7/dist-packages (from kaggle) (1.15.0)\n",
            "Requirement already satisfied: tqdm in /usr/local/lib/python3.7/dist-packages (from kaggle) (4.62.3)\n",
            "Requirement already satisfied: certifi in /usr/local/lib/python3.7/dist-packages (from kaggle) (2021.5.30)\n",
            "Requirement already satisfied: python-slugify in /usr/local/lib/python3.7/dist-packages (from kaggle) (5.0.2)\n",
            "Requirement already satisfied: python-dateutil in /usr/local/lib/python3.7/dist-packages (from kaggle) (2.8.2)\n",
            "Requirement already satisfied: text-unidecode>=1.3 in /usr/local/lib/python3.7/dist-packages (from python-slugify->kaggle) (1.3)\n",
            "Requirement already satisfied: chardet<4,>=3.0.2 in /usr/local/lib/python3.7/dist-packages (from requests->kaggle) (3.0.4)\n",
            "Requirement already satisfied: idna<3,>=2.5 in /usr/local/lib/python3.7/dist-packages (from requests->kaggle) (2.10)\n"
          ]
        }
      ]
    },
    {
      "cell_type": "code",
      "metadata": {
        "colab": {
          "base_uri": "https://localhost:8080/",
          "height": 203
        },
        "id": "Geu4NvJPOQiy",
        "outputId": "0bcc07cb-a8dc-4181-ff62-eb06fafc50ef"
      },
      "source": [
        "#load dataset from kaggle or elsewhere\n",
        "url = \"https://gist.githubusercontent.com/aishwarya8615/d2107f828d3f904839cbcb7eaa85bd04/raw/cec0340503d82d270821e03254993b6dede60afb/healthcare-dataset-stroke-data.csv\"\n",
        "data = pd.read_csv(url)\n",
        "data.head()"
      ],
      "execution_count": 49,
      "outputs": [
        {
          "output_type": "execute_result",
          "data": {
            "text/html": [
              "<div>\n",
              "<style scoped>\n",
              "    .dataframe tbody tr th:only-of-type {\n",
              "        vertical-align: middle;\n",
              "    }\n",
              "\n",
              "    .dataframe tbody tr th {\n",
              "        vertical-align: top;\n",
              "    }\n",
              "\n",
              "    .dataframe thead th {\n",
              "        text-align: right;\n",
              "    }\n",
              "</style>\n",
              "<table border=\"1\" class=\"dataframe\">\n",
              "  <thead>\n",
              "    <tr style=\"text-align: right;\">\n",
              "      <th></th>\n",
              "      <th>id</th>\n",
              "      <th>gender</th>\n",
              "      <th>age</th>\n",
              "      <th>hypertension</th>\n",
              "      <th>heart_disease</th>\n",
              "      <th>ever_married</th>\n",
              "      <th>work_type</th>\n",
              "      <th>Residence_type</th>\n",
              "      <th>avg_glucose_level</th>\n",
              "      <th>bmi</th>\n",
              "      <th>smoking_status</th>\n",
              "      <th>stroke</th>\n",
              "    </tr>\n",
              "  </thead>\n",
              "  <tbody>\n",
              "    <tr>\n",
              "      <th>0</th>\n",
              "      <td>9046</td>\n",
              "      <td>Male</td>\n",
              "      <td>67.0</td>\n",
              "      <td>0</td>\n",
              "      <td>1</td>\n",
              "      <td>Yes</td>\n",
              "      <td>Private</td>\n",
              "      <td>Urban</td>\n",
              "      <td>228.69</td>\n",
              "      <td>36.6</td>\n",
              "      <td>formerly smoked</td>\n",
              "      <td>1</td>\n",
              "    </tr>\n",
              "    <tr>\n",
              "      <th>1</th>\n",
              "      <td>51676</td>\n",
              "      <td>Female</td>\n",
              "      <td>61.0</td>\n",
              "      <td>0</td>\n",
              "      <td>0</td>\n",
              "      <td>Yes</td>\n",
              "      <td>Self-employed</td>\n",
              "      <td>Rural</td>\n",
              "      <td>202.21</td>\n",
              "      <td>NaN</td>\n",
              "      <td>never smoked</td>\n",
              "      <td>1</td>\n",
              "    </tr>\n",
              "    <tr>\n",
              "      <th>2</th>\n",
              "      <td>31112</td>\n",
              "      <td>Male</td>\n",
              "      <td>80.0</td>\n",
              "      <td>0</td>\n",
              "      <td>1</td>\n",
              "      <td>Yes</td>\n",
              "      <td>Private</td>\n",
              "      <td>Rural</td>\n",
              "      <td>105.92</td>\n",
              "      <td>32.5</td>\n",
              "      <td>never smoked</td>\n",
              "      <td>1</td>\n",
              "    </tr>\n",
              "    <tr>\n",
              "      <th>3</th>\n",
              "      <td>60182</td>\n",
              "      <td>Female</td>\n",
              "      <td>49.0</td>\n",
              "      <td>0</td>\n",
              "      <td>0</td>\n",
              "      <td>Yes</td>\n",
              "      <td>Private</td>\n",
              "      <td>Urban</td>\n",
              "      <td>171.23</td>\n",
              "      <td>34.4</td>\n",
              "      <td>smokes</td>\n",
              "      <td>1</td>\n",
              "    </tr>\n",
              "    <tr>\n",
              "      <th>4</th>\n",
              "      <td>1665</td>\n",
              "      <td>Female</td>\n",
              "      <td>79.0</td>\n",
              "      <td>1</td>\n",
              "      <td>0</td>\n",
              "      <td>Yes</td>\n",
              "      <td>Self-employed</td>\n",
              "      <td>Rural</td>\n",
              "      <td>174.12</td>\n",
              "      <td>24.0</td>\n",
              "      <td>never smoked</td>\n",
              "      <td>1</td>\n",
              "    </tr>\n",
              "  </tbody>\n",
              "</table>\n",
              "</div>"
            ],
            "text/plain": [
              "      id  gender   age  ...   bmi   smoking_status stroke\n",
              "0   9046    Male  67.0  ...  36.6  formerly smoked      1\n",
              "1  51676  Female  61.0  ...   NaN     never smoked      1\n",
              "2  31112    Male  80.0  ...  32.5     never smoked      1\n",
              "3  60182  Female  49.0  ...  34.4           smokes      1\n",
              "4   1665  Female  79.0  ...  24.0     never smoked      1\n",
              "\n",
              "[5 rows x 12 columns]"
            ]
          },
          "metadata": {},
          "execution_count": 49
        }
      ]
    },
    {
      "cell_type": "code",
      "metadata": {
        "colab": {
          "base_uri": "https://localhost:8080/",
          "height": 295
        },
        "id": "4waBP3IqQfq7",
        "outputId": "5f2d3011-4942-44bc-e4a9-edb4aac40b4d"
      },
      "source": [
        "data.describe()"
      ],
      "execution_count": 50,
      "outputs": [
        {
          "output_type": "execute_result",
          "data": {
            "text/html": [
              "<div>\n",
              "<style scoped>\n",
              "    .dataframe tbody tr th:only-of-type {\n",
              "        vertical-align: middle;\n",
              "    }\n",
              "\n",
              "    .dataframe tbody tr th {\n",
              "        vertical-align: top;\n",
              "    }\n",
              "\n",
              "    .dataframe thead th {\n",
              "        text-align: right;\n",
              "    }\n",
              "</style>\n",
              "<table border=\"1\" class=\"dataframe\">\n",
              "  <thead>\n",
              "    <tr style=\"text-align: right;\">\n",
              "      <th></th>\n",
              "      <th>id</th>\n",
              "      <th>age</th>\n",
              "      <th>hypertension</th>\n",
              "      <th>heart_disease</th>\n",
              "      <th>avg_glucose_level</th>\n",
              "      <th>bmi</th>\n",
              "      <th>stroke</th>\n",
              "    </tr>\n",
              "  </thead>\n",
              "  <tbody>\n",
              "    <tr>\n",
              "      <th>count</th>\n",
              "      <td>5110.000000</td>\n",
              "      <td>5110.000000</td>\n",
              "      <td>5110.000000</td>\n",
              "      <td>5110.000000</td>\n",
              "      <td>5110.000000</td>\n",
              "      <td>4909.000000</td>\n",
              "      <td>5110.000000</td>\n",
              "    </tr>\n",
              "    <tr>\n",
              "      <th>mean</th>\n",
              "      <td>36517.829354</td>\n",
              "      <td>43.226614</td>\n",
              "      <td>0.097456</td>\n",
              "      <td>0.054012</td>\n",
              "      <td>106.147677</td>\n",
              "      <td>28.893237</td>\n",
              "      <td>0.048728</td>\n",
              "    </tr>\n",
              "    <tr>\n",
              "      <th>std</th>\n",
              "      <td>21161.721625</td>\n",
              "      <td>22.612647</td>\n",
              "      <td>0.296607</td>\n",
              "      <td>0.226063</td>\n",
              "      <td>45.283560</td>\n",
              "      <td>7.854067</td>\n",
              "      <td>0.215320</td>\n",
              "    </tr>\n",
              "    <tr>\n",
              "      <th>min</th>\n",
              "      <td>67.000000</td>\n",
              "      <td>0.080000</td>\n",
              "      <td>0.000000</td>\n",
              "      <td>0.000000</td>\n",
              "      <td>55.120000</td>\n",
              "      <td>10.300000</td>\n",
              "      <td>0.000000</td>\n",
              "    </tr>\n",
              "    <tr>\n",
              "      <th>25%</th>\n",
              "      <td>17741.250000</td>\n",
              "      <td>25.000000</td>\n",
              "      <td>0.000000</td>\n",
              "      <td>0.000000</td>\n",
              "      <td>77.245000</td>\n",
              "      <td>23.500000</td>\n",
              "      <td>0.000000</td>\n",
              "    </tr>\n",
              "    <tr>\n",
              "      <th>50%</th>\n",
              "      <td>36932.000000</td>\n",
              "      <td>45.000000</td>\n",
              "      <td>0.000000</td>\n",
              "      <td>0.000000</td>\n",
              "      <td>91.885000</td>\n",
              "      <td>28.100000</td>\n",
              "      <td>0.000000</td>\n",
              "    </tr>\n",
              "    <tr>\n",
              "      <th>75%</th>\n",
              "      <td>54682.000000</td>\n",
              "      <td>61.000000</td>\n",
              "      <td>0.000000</td>\n",
              "      <td>0.000000</td>\n",
              "      <td>114.090000</td>\n",
              "      <td>33.100000</td>\n",
              "      <td>0.000000</td>\n",
              "    </tr>\n",
              "    <tr>\n",
              "      <th>max</th>\n",
              "      <td>72940.000000</td>\n",
              "      <td>82.000000</td>\n",
              "      <td>1.000000</td>\n",
              "      <td>1.000000</td>\n",
              "      <td>271.740000</td>\n",
              "      <td>97.600000</td>\n",
              "      <td>1.000000</td>\n",
              "    </tr>\n",
              "  </tbody>\n",
              "</table>\n",
              "</div>"
            ],
            "text/plain": [
              "                 id          age  ...          bmi       stroke\n",
              "count   5110.000000  5110.000000  ...  4909.000000  5110.000000\n",
              "mean   36517.829354    43.226614  ...    28.893237     0.048728\n",
              "std    21161.721625    22.612647  ...     7.854067     0.215320\n",
              "min       67.000000     0.080000  ...    10.300000     0.000000\n",
              "25%    17741.250000    25.000000  ...    23.500000     0.000000\n",
              "50%    36932.000000    45.000000  ...    28.100000     0.000000\n",
              "75%    54682.000000    61.000000  ...    33.100000     0.000000\n",
              "max    72940.000000    82.000000  ...    97.600000     1.000000\n",
              "\n",
              "[8 rows x 7 columns]"
            ]
          },
          "metadata": {},
          "execution_count": 50
        }
      ]
    },
    {
      "cell_type": "code",
      "metadata": {
        "colab": {
          "base_uri": "https://localhost:8080/"
        },
        "id": "E7p0SJC-SP6T",
        "outputId": "e6e201c5-c16a-4a0d-875e-96a8ecce0980"
      },
      "source": [
        "miss_val = data.isnull().sum()/len(data)*100\n",
        "print(miss_val)\n",
        "print(\"# Missing values in variable bmi\\t\\t: {:.2f}%\".format(miss_val['bmi']))\n",
        "print(\"# Missing values in variable smoking_status\\t: {:.2f}%\".format(miss_val['smoking_status']))\n",
        "print(\"Data shape: {}\".format(data.shape))"
      ],
      "execution_count": 51,
      "outputs": [
        {
          "output_type": "stream",
          "name": "stdout",
          "text": [
            "id                   0.000000\n",
            "gender               0.000000\n",
            "age                  0.000000\n",
            "hypertension         0.000000\n",
            "heart_disease        0.000000\n",
            "ever_married         0.000000\n",
            "work_type            0.000000\n",
            "Residence_type       0.000000\n",
            "avg_glucose_level    0.000000\n",
            "bmi                  3.933464\n",
            "smoking_status       0.000000\n",
            "stroke               0.000000\n",
            "dtype: float64\n",
            "# Missing values in variable bmi\t\t: 3.93%\n",
            "# Missing values in variable smoking_status\t: 0.00%\n",
            "Data shape: (5110, 12)\n"
          ]
        }
      ]
    },
    {
      "cell_type": "code",
      "metadata": {
        "colab": {
          "base_uri": "https://localhost:8080/"
        },
        "id": "3nYH-myxSbCm",
        "outputId": "c8c135ac-a647-44af-d720-8750a10bdfc0"
      },
      "source": [
        "# Safely disable new warning with the chained assignment.\n",
        "pd.options.mode.chained_assignment = None  # default='warn'\n",
        "# replace missing values in variable 'bmi' with its mean\n",
        "data['bmi']=data['bmi'].fillna(data['bmi'].mean())\n",
        "# remove (drop) data associated with missing values in variable 'smoking_status'\n",
        "clean_data = data[data['smoking_status'].notnull()]\n",
        "# drop variable 'id'\n",
        "clean_data.drop(columns='id',axis=1,inplace=True)\n",
        "# validate there's no more missing values\n",
        "miss_val = clean_data.isnull().sum()/len(clean_data)*100\n",
        "print(miss_val)\n",
        "print(\"# Missing values in variable 'bmi'\\t\\t: {}\".format(miss_val['bmi']))\n",
        "print(\"# Missing values in variable 'smoking_status'\\t: {}\".format(miss_val['smoking_status']))\n",
        "print(\"Shape of data without missing values: {}\".format(clean_data.shape))"
      ],
      "execution_count": 52,
      "outputs": [
        {
          "output_type": "stream",
          "name": "stdout",
          "text": [
            "gender               0.0\n",
            "age                  0.0\n",
            "hypertension         0.0\n",
            "heart_disease        0.0\n",
            "ever_married         0.0\n",
            "work_type            0.0\n",
            "Residence_type       0.0\n",
            "avg_glucose_level    0.0\n",
            "bmi                  0.0\n",
            "smoking_status       0.0\n",
            "stroke               0.0\n",
            "dtype: float64\n",
            "# Missing values in variable 'bmi'\t\t: 0.0\n",
            "# Missing values in variable 'smoking_status'\t: 0.0\n",
            "Shape of data without missing values: (5110, 11)\n"
          ]
        }
      ]
    },
    {
      "cell_type": "code",
      "metadata": {
        "colab": {
          "base_uri": "https://localhost:8080/"
        },
        "id": "B43rRpztVnI_",
        "outputId": "9b67404c-caf4-4d01-a1d1-e2b4390655ad"
      },
      "source": [
        "print(\"Unique 'gender': {}\".format(clean_data['gender'].unique()))\n",
        "print(\"Unique 'ever_married': {}\".format(clean_data['ever_married'].unique()))\n",
        "print(\"Unique 'work_type': {}\".format(clean_data['work_type'].unique()))\n",
        "print(\"Unique 'Residence_type': {}\".format(clean_data['Residence_type'].unique()))\n",
        "print(\"Unique 'smoking_status': {}\".format(clean_data['smoking_status'].unique()))"
      ],
      "execution_count": 53,
      "outputs": [
        {
          "output_type": "stream",
          "name": "stdout",
          "text": [
            "Unique 'gender': ['Male' 'Female' 'Other']\n",
            "Unique 'ever_married': ['Yes' 'No']\n",
            "Unique 'work_type': ['Private' 'Self-employed' 'Govt_job' 'children' 'Never_worked']\n",
            "Unique 'Residence_type': ['Urban' 'Rural']\n",
            "Unique 'smoking_status': ['formerly smoked' 'never smoked' 'smokes' 'Unknown']\n"
          ]
        }
      ]
    },
    {
      "cell_type": "code",
      "metadata": {
        "id": "DRH3r8wcVvC2"
      },
      "source": [
        "# create encoder for each categorical variable\n",
        "label_gender = LabelEncoder()\n",
        "label_married = LabelEncoder()\n",
        "label_work = LabelEncoder()\n",
        "label_residence = LabelEncoder()\n",
        "label_smoking = LabelEncoder()"
      ],
      "execution_count": 54,
      "outputs": []
    },
    {
      "cell_type": "code",
      "metadata": {
        "colab": {
          "base_uri": "https://localhost:8080/"
        },
        "id": "8Xs9gHYPVzew",
        "outputId": "62c707e9-8381-4a25-d687-982c608fb619"
      },
      "source": [
        "clean_data['gender'] = label_gender.fit_transform(clean_data['gender'])\n",
        "clean_data['ever_married'] = label_married.fit_transform(clean_data['ever_married'])\n",
        "clean_data['work_type']= label_work.fit_transform(clean_data['work_type'])\n",
        "clean_data['Residence_type']= label_residence.fit_transform(clean_data['Residence_type'])\n",
        "clean_data['smoking_status']= label_smoking.fit_transform(clean_data['smoking_status'])\n",
        "with pd.option_context('expand_frame_repr', False):\n",
        "    print(clean_data.head())"
      ],
      "execution_count": 55,
      "outputs": [
        {
          "output_type": "stream",
          "name": "stdout",
          "text": [
            "   gender   age  hypertension  heart_disease  ever_married  work_type  Residence_type  avg_glucose_level        bmi  smoking_status  stroke\n",
            "0       1  67.0             0              1             1          2               1             228.69  36.600000               1       1\n",
            "1       0  61.0             0              0             1          3               0             202.21  28.893237               2       1\n",
            "2       1  80.0             0              1             1          2               0             105.92  32.500000               2       1\n",
            "3       0  49.0             0              0             1          2               1             171.23  34.400000               3       1\n",
            "4       0  79.0             1              0             1          3               0             174.12  24.000000               2       1\n"
          ]
        }
      ]
    },
    {
      "cell_type": "code",
      "metadata": {
        "colab": {
          "base_uri": "https://localhost:8080/",
          "height": 441
        },
        "id": "DfEZiph1V7PZ",
        "outputId": "35d56d87-bc82-4b36-d6ca-0df7bfb3f8ee"
      },
      "source": [
        "fig, ax = plt.subplots(figsize=(8,6))\n",
        "im = ax.matshow(clean_data.corr())\n",
        "ax.set_xticks(np.arange(clean_data.shape[1]))\n",
        "ax.set_yticks(np.arange(clean_data.shape[1]))\n",
        "ax.set_xticklabels(clean_data.columns,rotation=90)\n",
        "ax.set_yticklabels(clean_data.columns)\n",
        "# Create colorbar\n",
        "cbar = ax.figure.colorbar(im, ax=ax)\n",
        "cbar.ax.set_ylabel(\"Correlation\", rotation=-90, va=\"bottom\", fontsize=12)\n",
        "fig.tight_layout()\n",
        "plt.show()"
      ],
      "execution_count": 56,
      "outputs": [
        {
          "output_type": "display_data",
          "data": {
            "image/png": "[encoded data removed]",
            "text/plain": [
              "<Figure size 576x432 with 2 Axes>"
            ]
          },
          "metadata": {
            "needs_background": "light"
          }
        }
      ]
    },
    {
      "cell_type": "code",
      "metadata": {
        "colab": {
          "base_uri": "https://localhost:8080/",
          "height": 585
        },
        "id": "GY5LzrXJV_Sn",
        "outputId": "a605e958-d4d6-49c8-91a6-4eeff1c6b724"
      },
      "source": [
        "fig = clean_data.hist(figsize=(10,8))\n",
        "plt.tight_layout()\n",
        "plt.show()"
      ],
      "execution_count": 57,
      "outputs": [
        {
          "output_type": "display_data",
          "data": {
            "image/png": "[encoded data removed]",
            "text/plain": [
              "<Figure size 720x576 with 12 Axes>"
            ]
          },
          "metadata": {
            "needs_background": "light"
          }
        }
      ]
    },
    {
      "cell_type": "code",
      "metadata": {
        "colab": {
          "base_uri": "https://localhost:8080/",
          "height": 298
        },
        "id": "5PW6TLZfWG6C",
        "outputId": "272611db-ab6e-45db-bdaf-f5fe32a2971e"
      },
      "source": [
        "class_occur = clean_data['stroke'].value_counts()\n",
        "class_names = ['No Stroke','Stroke']\n",
        "fig, ax = plt.subplots()\n",
        "ax.pie(class_occur, labels=class_names, autopct='%1.2f%%',\n",
        "        shadow=True, startangle=0, counterclock=False)\n",
        "ax.axis('equal')  # Equal aspect ratio ensures that pie is drawn as a circle.\n",
        "ax.set_title('Class distribution')\n",
        "plt.show()\n",
        "print(\"# samples associated with no stroke: {}\".format(class_occur[0]))\n",
        "print(\"# samples associated with stroke: {}\".format(class_occur[1]))"
      ],
      "execution_count": 60,
      "outputs": [
        {
          "output_type": "display_data",
          "data": {
            "image/png": "[encoded data removed]",
            "text/plain": [
              "<Figure size 432x288 with 1 Axes>"
            ]
          },
          "metadata": {}
        },
        {
          "output_type": "stream",
          "name": "stdout",
          "text": [
            "# samples associated with no stroke: 4861\n",
            "# samples associated with stroke: 249\n"
          ]
        }
      ]
    },
    {
      "cell_type": "code",
      "metadata": {
        "colab": {
          "base_uri": "https://localhost:8080/"
        },
        "id": "T-rg94AYWNYM",
        "outputId": "1bfabc2a-fc88-4ccd-ddfa-aa332ba87959"
      },
      "source": [
        "# create the  object with the desired sampling strategy.\n",
        "smote = SMOTE(sampling_strategy='minority')\n",
        "\n",
        "# fit the object to our training data\n",
        "X, y = smote.fit_sample(clean_data.loc[:,clean_data.columns!='stroke'], clean_data['stroke'])\n",
        "print(\"Shape of X: {}\".format(X.shape))\n",
        "print(\"Shape of y: {}\".format(y.shape))"
      ],
      "execution_count": 61,
      "outputs": [
        {
          "output_type": "stream",
          "name": "stdout",
          "text": [
            "Shape of X: (9722, 10)\n",
            "Shape of y: (9722,)\n"
          ]
        },
        {
          "output_type": "stream",
          "name": "stderr",
          "text": [
            "/usr/local/lib/python3.7/dist-packages/sklearn/utils/deprecation.py:87: FutureWarning: Function safe_indexing is deprecated; safe_indexing is deprecated in version 0.22 and will be removed in version 0.24.\n",
            "  warnings.warn(msg, category=FutureWarning)\n"
          ]
        }
      ]
    },
    {
      "cell_type": "code",
      "metadata": {
        "id": "J2t5Uyj5zuI9",
        "outputId": "1a2d1753-3e89-4b93-b41b-c274f4a1ea6c",
        "colab": {
          "base_uri": "https://localhost:8080/",
          "height": 298
        }
      },
      "source": [
        "_, class_counts = np.unique(y, return_counts=True)\n",
        "class_names = ['No stroke', 'Stroke']\n",
        "fig, ax = plt.subplots()\n",
        "ax.pie(class_counts, labels=class_names, autopct='%1.2f%%',\n",
        "        shadow=True, startangle=90, counterclock=False)\n",
        "ax.axis('equal')  # Equal aspect ratio ensures that pie is drawn as a circle.\n",
        "ax.set_title('Class distribution')\n",
        "plt.show()\n",
        "print(\"# samples associated with no stroke: {}\".format(class_counts[0]))\n",
        "print(\"# samples associated with stroke: {}\".format(class_counts[1]))"
      ],
      "execution_count": 62,
      "outputs": [
        {
          "output_type": "display_data",
          "data": {
            "image/png": "[encoded data removed]",
            "text/plain": [
              "<Figure size 432x288 with 1 Axes>"
            ]
          },
          "metadata": {}
        },
        {
          "output_type": "stream",
          "name": "stdout",
          "text": [
            "# samples associated with no stroke: 4861\n",
            "# samples associated with stroke: 4861\n"
          ]
        }
      ]
    },
    {
      "cell_type": "code",
      "metadata": {
        "id": "vRarDel2zyac",
        "outputId": "d6a2a965-6e8f-4889-b7de-38184c682fb6",
        "colab": {
          "base_uri": "https://localhost:8080/"
        }
      },
      "source": [
        "def split_train_valid_test(X,y,test_size=0.1,random_state=None):\n",
        "    X_train, X_test, y_train, y_test = train_test_split(X,y,test_size=test_size, random_state=random_state, stratify=y)\n",
        "    X_train, X_valid, y_train, y_valid = train_test_split(X_train,y_train,test_size=test_size/(1-test_size), random_state=random_state, stratify=y_train)\n",
        "    return X_train, X_valid, X_test, y_train, y_valid, y_test\n",
        "\n",
        "X_train, X_valid, X_test, y_train, y_valid, y_test = split_train_valid_test(X,y,test_size=0.1,random_state=42)\n",
        "_, train_counts = np.unique(y_train, return_counts=True)\n",
        "_, valid_counts = np.unique(y_valid, return_counts=True)\n",
        "_, test_counts = np.unique(y_test, return_counts=True)\n",
        "print(\"[train] # class 0: {} | # class 1: {}\".format(train_counts[0],train_counts[1]))\n",
        "print(\"[valid] # class 0: {} | # class 1: {}\".format(valid_counts[0],valid_counts[1]))\n",
        "print(\"[test]  # class 0: {} | # class 1: {}\".format(test_counts[0],test_counts[1]))"
      ],
      "execution_count": 63,
      "outputs": [
        {
          "output_type": "stream",
          "name": "stdout",
          "text": [
            "[train] # class 0: 3888 | # class 1: 3888\n",
            "[valid] # class 0: 486 | # class 1: 487\n",
            "[test]  # class 0: 487 | # class 1: 486\n"
          ]
        }
      ]
    },
    {
      "cell_type": "code",
      "metadata": {
        "id": "P2Cu6lEJz6I0"
      },
      "source": [
        "scaler = StandardScaler()\n",
        "scaler = scaler.fit(X_train)\n",
        "\n",
        "X_train_std = scaler.transform(X_train)\n",
        "X_valid_std = scaler.transform(X_valid)\n",
        "X_test_std = scaler.transform(X_test)"
      ],
      "execution_count": 64,
      "outputs": []
    },
    {
      "cell_type": "code",
      "metadata": {
        "id": "uwb6UHVJz9-V"
      },
      "source": [
        "def calc_sens_spec(y_true,y_pred):\n",
        "    conf_matrix = confusion_matrix(y_true,y_pred)\n",
        "    TP = conf_matrix[1][1]\n",
        "    TN = conf_matrix[0][0]\n",
        "    FP = conf_matrix[0][1]\n",
        "    FN = conf_matrix[1][0]\n",
        "    # calculate the sensitivity\n",
        "    sensitivity = TP / (TP + FN)    \n",
        "    # calculate the specificity\n",
        "    specificity = TN / (TN + FP)\n",
        "    return sensitivity,specificity"
      ],
      "execution_count": 65,
      "outputs": []
    },
    {
      "cell_type": "code",
      "metadata": {
        "id": "aEvBsh2L0Cy3",
        "outputId": "3138801f-0007-48f1-e954-e393f94b3644",
        "colab": {
          "base_uri": "https://localhost:8080/"
        }
      },
      "source": [
        "start = timer.time()\n",
        "xgb_model = XGBClassifier(objective=\"binary:logistic\", random_state=42)\n",
        "xgb_model.fit(X_train_std, y_train)\n",
        "end = timer.time()\n",
        "print(\"Finished training within {:.2f} seconds\".format(end-start))\n",
        "# Predicting the test set results\n",
        "y_xgb = xgb_model.predict(X_test_std)\n",
        "y_xgb_prob = xgb_model.predict_proba(X_test_std)"
      ],
      "execution_count": 66,
      "outputs": [
        {
          "output_type": "stream",
          "name": "stdout",
          "text": [
            "Finished training within 0.64 seconds\n"
          ]
        }
      ]
    },
    {
      "cell_type": "code",
      "metadata": {
        "id": "q1p0Eaa_0Nhm",
        "outputId": "c245270c-1ea1-45e2-edb3-d8cd43f62d4f",
        "colab": {
          "base_uri": "https://localhost:8080/",
          "height": 631
        }
      },
      "source": [
        "\n",
        "print(\"Classification report for XGB: \\n{}\".format(classification_report(y_test,y_xgb)))\n",
        "print(\"Confusion matrix for XGB: \\n{}\".format(confusion_matrix(y_test,y_xgb)))\n",
        "print(\"Accuracy score for XGB: {:.2f}\".format(accuracy_score(y_test,y_xgb)))\n",
        "# calculate precision, recall, and f1 scores\n",
        "prec_xgb = precision_score(y_test,y_xgb)\n",
        "rec_xgb = recall_score(y_test,y_xgb)\n",
        "f1_xgb = f1_score(y_test,y_xgb)\n",
        "print(\"Precision score for XGB: {:.2f}\".format(prec_xgb))\n",
        "print(\"Recall score for XGB: {:.2f}\".format(rec_xgb))\n",
        "print(\"F1 score for XGB: {:.2f}\".format(f1_xgb))\n",
        "# calculate sensitivity, specificity, and auc\n",
        "sens_xgb,spec_xgb = calc_sens_spec(y_test,y_xgb)\n",
        "fpr, tpr, _ = roc_curve(y_test,  y_xgb_prob[:,1])\n",
        "auc_xgb = roc_auc_score(y_test, y_xgb_prob[:,1])\n",
        "print(\"Sensitivity score for XGB: {:.2f}\".format(sens_xgb))\n",
        "print(\"Specitivity score for XGB: {:.2f}\".format(spec_xgb))\n",
        "print(\"AUC score for XGB: {:.2f}\".format(auc_xgb))\n",
        "fig, ax = plt.subplots()\n",
        "ax.plot(fpr, tpr, color='blue', label='ROC curve (area = %0.2f)' % auc_xgb)\n",
        "ax.plot([0, 1], [0, 1], color='green', linestyle='--')\n",
        "ax.set_xlim([-0.05, 1.0])\n",
        "ax.set_ylim([0.0, 1.05])\n",
        "ax.set_xlabel('False Positive Rate')\n",
        "ax.set_ylabel('True Positive Rate')\n",
        "ax.set_title('Receiver Operating Characteristic (XGB)')\n",
        "ax.legend(loc=\"lower right\")\n",
        "plt.show()"
      ],
      "execution_count": 67,
      "outputs": [
        {
          "output_type": "stream",
          "name": "stdout",
          "text": [
            "Classification report for XGB: \n",
            "              precision    recall  f1-score   support\n",
            "\n",
            "           0       0.94      1.00      0.97       487\n",
            "           1       1.00      0.94      0.97       486\n",
            "\n",
            "    accuracy                           0.97       973\n",
            "   macro avg       0.97      0.97      0.97       973\n",
            "weighted avg       0.97      0.97      0.97       973\n",
            "\n",
            "Confusion matrix for XGB: \n",
            "[[487   0]\n",
            " [ 29 457]]\n",
            "Accuracy score for XGB: 0.97\n",
            "Precision score for XGB: 1.00\n",
            "Recall score for XGB: 0.94\n",
            "F1 score for XGB: 0.97\n",
            "Sensitivity score for XGB: 0.94\n",
            "Specitivity score for XGB: 1.00\n",
            "AUC score for XGB: 0.99\n"
          ]
        },
        {
          "output_type": "display_data",
          "data": {
            "image/png": "[encoded data removed]",
            "text/plain": [
              "<Figure size 432x288 with 1 Axes>"
            ]
          },
          "metadata": {
            "needs_background": "light"
          }
        }
      ]
    },
    {
      "cell_type": "code",
      "metadata": {
        "id": "TG7uOIap0Rq8"
      },
      "source": [
        ""
      ],
      "execution_count": null,
      "outputs": []
    }
  ]
}